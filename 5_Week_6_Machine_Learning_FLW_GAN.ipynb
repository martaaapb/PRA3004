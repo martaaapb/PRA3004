{
  "cells": [
    {
      "cell_type": "code",
      "execution_count": null,
      "metadata": {
        "colab": {
          "base_uri": "https://localhost:8080/"
        },
        "id": "KH_fIMnXB_aI",
        "outputId": "2b7c781d-ca7c-48ef-bdbb-34e58bdc8f51"
      },
      "outputs": [
        {
          "output_type": "stream",
          "name": "stdout",
          "text": [
            "--2024-03-16 16:24:39--  http://www.cs.columbia.edu/CAVE/databases/pubfig/download/lfw_attributes.txt\n",
            "Resolving www.cs.columbia.edu (www.cs.columbia.edu)... 128.59.11.206\n",
            "Connecting to www.cs.columbia.edu (www.cs.columbia.edu)|128.59.11.206|:80... connected.\n",
            "HTTP request sent, awaiting response... 301 Moved Permanently\n",
            "Location: https://www.cs.columbia.edu/CAVE/databases/pubfig/download/lfw_attributes.txt [following]\n",
            "--2024-03-16 16:24:40--  https://www.cs.columbia.edu/CAVE/databases/pubfig/download/lfw_attributes.txt\n",
            "Connecting to www.cs.columbia.edu (www.cs.columbia.edu)|128.59.11.206|:443... connected.\n",
            "HTTP request sent, awaiting response... 200 OK\n",
            "Length: 14879205 (14M) [text/plain]\n",
            "Saving to: ‘lfw_attributes.txt’\n",
            "\n",
            "lfw_attributes.txt  100%[===================>]  14.19M  5.41MB/s    in 2.6s    \n",
            "\n",
            "2024-03-16 16:24:44 (5.41 MB/s) - ‘lfw_attributes.txt’ saved [14879205/14879205]\n",
            "\n",
            "--2024-03-16 16:24:44--  http://vis-www.cs.umass.edu/lfw/lfw-funneled.tgz\n",
            "Resolving vis-www.cs.umass.edu (vis-www.cs.umass.edu)... 128.119.244.95\n",
            "Connecting to vis-www.cs.umass.edu (vis-www.cs.umass.edu)|128.119.244.95|:80... connected.\n",
            "HTTP request sent, awaiting response... 200 OK\n",
            "Length: 243346528 (232M) [application/x-gzip]\n",
            "Saving to: ‘lfw-funneled.tgz’\n",
            "\n",
            "lfw-funneled.tgz    100%[===================>] 232.07M   391KB/s    in 10m 42s \n",
            "\n",
            "2024-03-16 16:35:27 (370 KB/s) - ‘lfw-funneled.tgz’ saved [243346528/243346528]\n",
            "\n"
          ]
        }
      ],
      "source": [
        "# training GANS is a slow process: be sure to switch to hardware accelerator GPU in 'change runtime type', and switch to high-RAM when prompted.\n",
        "# GAN procedure mostly taken from https://github.com/yandexdataschool/mlhep2018/\n",
        "\n",
        "# Download dataset\n",
        "!wget http://www.cs.columbia.edu/CAVE/databases/pubfig/download/lfw_attributes.txt\n",
        "!wget http://vis-www.cs.umass.edu/lfw/lfw-funneled.tgz # 233 MB!\n",
        "!tar -xf lfw-funneled.tgz"
      ]
    },
    {
      "cell_type": "code",
      "execution_count": null,
      "metadata": {
        "id": "qnRedA7781oU"
      },
      "outputs": [],
      "source": [
        "# Some data-handling tools and imports\n",
        "\n",
        "import numpy as np\n",
        "import os\n",
        "import subprocess\n",
        "from imageio import imread\n",
        "#from scipy.misc import imresize\n",
        "#!pip install pillow\n",
        "from PIL import Image\n",
        "import pandas as pd\n",
        "\n",
        "def fetch_lfw_dataset(attrs_name = \"lfw_attributes.txt\",\n",
        "                      images_name = \"lfw-deepfunneled\",\n",
        "                      raw_images_name = \"lfw\",\n",
        "                      use_raw=False,\n",
        "                      dx=80,dy=80,\n",
        "                      dimx=45,dimy=45):\n",
        "\n",
        "    # read attrs\n",
        "    # the header row begins with a #, which we want to ignore\n",
        "    with open(attrs_name) as attributes_file:\n",
        "        attributes_file.readline()\n",
        "        ugly_header = attributes_file.read(2)\n",
        "        assert ugly_header == \"#\\t\"\n",
        "        df_attrs = pd.read_csv(attributes_file, sep='\\t', skipinitialspace=True)\n",
        "        #print(df_attrs)\n",
        "        #print(df_attrs.columns.values.tolist())\n",
        "\n",
        "    #read photos\n",
        "    dirname = raw_images_name if use_raw else images_name\n",
        "    photo_ids = []\n",
        "    initial_depth = dirname.count(os.sep)\n",
        "    for dirpath, dirnames, filenames in os.walk(dirname):\n",
        "        if dirpath.count(os.sep) - initial_depth > 1:\n",
        "            continue\n",
        "        for fname in filenames:\n",
        "            if fname.endswith(\".jpg\"):\n",
        "                photo_id = fname[:-4].replace('_',' ').split()\n",
        "                person_id = ' '.join(photo_id[:-1])\n",
        "                photo_number = int(photo_id[-1])\n",
        "                fpath = os.path.join(dirpath, fname)\n",
        "                photo_ids.append({'person':person_id,'imagenum':photo_number,'photo_path':fpath})\n",
        "\n",
        "    photo_ids = pd.DataFrame(photo_ids)\n",
        "\n",
        "    # mass-merge\n",
        "    # (photos now have same order as attributes)\n",
        "    df = pd.merge(df_attrs,photo_ids,on=('person','imagenum'))\n",
        "\n",
        "    assert len(df)==len(df_attrs),\"lost some data when merging dataframes\"\n",
        "\n",
        "    #image preprocessing\n",
        "    all_photos =df['photo_path'].apply(imread)\\\n",
        "                                .apply(lambda img:img[dy:-dy,dx:-dx])\\\n",
        "                                .apply(lambda img: Image.fromarray(img).resize([dimx,dimy]) )\n",
        "\n",
        "    all_photos = np.stack(all_photos.values).astype('uint8')\n",
        "    all_attrs = df.drop([\"photo_path\",\"person\",\"imagenum\"], axis=1)\n",
        "\n",
        "    return all_photos, all_attrs"
      ]
    },
    {
      "cell_type": "code",
      "execution_count": null,
      "metadata": {
        "id": "eyFG9F6b_P1R"
      },
      "outputs": [],
      "source": [
        "# Fetch the datasets of faces\n",
        "\n",
        "#%env CUDA_VISIBLE_DEVICES=0\n",
        "\n",
        "import matplotlib.pyplot as plt\n",
        "%matplotlib inline\n",
        "import numpy as np\n",
        "plt.rcParams.update({'axes.titlesize': 'small'})\n",
        "\n",
        "# a utility to load the dataset\n",
        "data, _ = fetch_lfw_dataset(dimx=36, dimy=36,\n",
        "                            images_name=\"lfw_funneled\",\n",
        "                            attrs_name=\"lfw_attributes.txt\",\n",
        "                            )\n",
        "\n",
        "# preprocess faces\n",
        "data = np.float32(data)/255.\n",
        "\n",
        "IMG_SHAPE = data.shape[1:]"
      ]
    },
    {
      "cell_type": "code",
      "execution_count": null,
      "metadata": {
        "colab": {
          "base_uri": "https://localhost:8080/",
          "height": 283
        },
        "id": "T1-_inEph8dO",
        "outputId": "42a67b28-6041-47de-88e7-5754f13daeb4"
      },
      "outputs": [
        {
          "output_type": "stream",
          "name": "stderr",
          "text": [
            "<ipython-input-5-ab06be3d0d68>:7: MatplotlibDeprecationWarning: Auto-removal of overlapping axes is deprecated since 3.6 and will be removed two minor releases later; explicitly call ax.remove() as needed.\n",
            "  plt.subplot(1,5,i+1)\n"
          ]
        },
        {
          "output_type": "display_data",
          "data": {
            "text/plain": [
              "<Figure size 1800x1800 with 5 Axes>"
            ],
            "image/png": "[encoded data removed]"
          },
          "metadata": {}
        }
      ],
      "source": [
        "# show some random (real) faces from our dataset\n",
        "\n",
        "plt.figure(figsize=[18, 18])\n",
        "plt.axis('off');\n",
        "\n",
        "for i in range(5):\n",
        "  plt.subplot(1,5,i+1)\n",
        "  plt.imshow(data[np.random.randint(data.shape[0])], cmap=\"gray\", interpolation=\"none\")\n"
      ]
    },
    {
      "cell_type": "code",
      "execution_count": null,
      "metadata": {
        "id": "PuCdxa1wGT2K"
      },
      "outputs": [],
      "source": [
        "import tensorflow as tf\n",
        "\n",
        "# Please don't run tensorfow without this config. Without it you'll take the whole memory of the GPU\n",
        "# and make it unusable by anyone else\n",
        "#gpu_options = tf.GPUOptions(allow_growth=True)\n",
        "#sess = tf.InteractiveSession(config=tf.ConfigProto(gpu_options=gpu_options))\n",
        "# Edit: for colab, resources are limited on the server-side. Go hog.\n",
        "sess = tf.compat.v1.InteractiveSession()\n",
        "\n",
        "tf.compat.v1.disable_eager_execution()\n",
        "#tf.compat.v1.disable_v2_behavior()\n",
        "\n",
        "\n",
        "import keras\n",
        "from keras.models import Sequential\n",
        "from keras import layers as L\n",
        "from functools import partial"
      ]
    },
    {
      "cell_type": "code",
      "source": [
        "config = tf.compat.v1.ConfigProto()\n",
        "config.gpu_options.allow_growth = True\n",
        "sess = tf.compat.v1.InteractiveSession(config=config)"
      ],
      "metadata": {
        "colab": {
          "base_uri": "https://localhost:8080/"
        },
        "id": "1lXI9Kz0rKZ5",
        "outputId": "37bfac2b-8ae3-414f-8027-53471f0bfe94"
      },
      "execution_count": null,
      "outputs": [
        {
          "output_type": "stream",
          "name": "stderr",
          "text": [
            "/usr/local/lib/python3.10/dist-packages/tensorflow/python/client/session.py:1793: UserWarning: An interactive session is already active. This can cause out-of-memory errors in some cases. You must explicitly call `InteractiveSession.close()` to release resources held by the other session(s).\n",
            "  warnings.warn('An interactive session is already active. This can '\n"
          ]
        }
      ]
    },
    {
      "cell_type": "markdown",
      "metadata": {
        "id": "pJBCdp7qgy4L"
      },
      "source": [
        "If we can't tell good faces from bad, we delegate it to yet another neural network!\n",
        "\n",
        "That makes two of them:\n",
        "- Generator - takes random noise for inspiration and tries to generate a face sample. Let's call him G(z), where z is a gaussian noize.\n",
        "\n",
        "- Discriminator - takes a face sample and tries to tell if it's real or fake. Predicts the probability of input image being a real face. Let's call him D(x), x being an image. D(x) is a prediction for real image and D(G(z)) is prediction for the face made by generator."
      ]
    },
    {
      "cell_type": "code",
      "execution_count": null,
      "metadata": {
        "id": "fJEchmd_VM9b"
      },
      "outputs": [],
      "source": [
        "# Now it's your choise which GAN to build: Jensen-Shannon, or Wasserstein\n",
        "# In addition to the theoretical difference, a couple of practical matters:\n",
        "#  Jensen-Shannon GAN should learn several times faster, but is more sensitive to mode collapse and vanishing gradients.\n",
        "#  Wasserstein GAN doesn't go well in company of batch normalization and ELU activation.\n",
        "\n",
        "GAN_TYPE = \"Jensen-Shannon\"\n",
        "#GAN_TYPE = \"Wasserstein\"\n",
        "\n",
        "# Activations experimentally selected. Will most likely work\n",
        "# for other combinations of activations/architectures\n",
        "if GAN_TYPE == \"Wasserstein\":\n",
        "    generator_activation = partial(keras.activations.relu, alpha=0)\n",
        "elif GAN_TYPE == \"Jensen-Shannon\":\n",
        "    generator_activation = keras.activations.elu"
      ]
    },
    {
      "cell_type": "markdown",
      "metadata": {
        "id": "SRx7OqROqrEq"
      },
      "source": [
        "# Make the Generator.\n",
        "It takes a random sample as input (size CODE_SIZE) and generates a face with FIGURE_SIZE output size.\n",
        "\n",
        "To enlarge from CODE_SIZE to FIGURE_SIZE (#pix_x by #pix_y by #rgb) you need to use some Deconvolution2D and UpSampling2D layers.\n",
        "\n",
        "To complete the Generator network, I needed to add layers that upscale the input noise vector to the desired output image size. I used Conv2DTranspose layers for this purpose, which perform the inverse operation of Conv2D layers. Additionally, I applied activation functions specified by the generator_activation variable."
      ]
    },
    {
      "cell_type": "code",
      "execution_count": null,
      "metadata": {
        "colab": {
          "base_uri": "https://localhost:8080/"
        },
        "id": "fmhRHv4A70LK",
        "outputId": "ca847a53-ad6c-4ee1-a6de-e797bd34dcd7"
      },
      "outputs": [
        {
          "output_type": "stream",
          "name": "stdout",
          "text": [
            "Model: \"Generator\"\n",
            "_________________________________________________________________\n",
            " Layer (type)                Output Shape              Param #   \n",
            "=================================================================\n",
            " dense (Dense)               (None, 12)                3084      \n",
            "                                                                 \n",
            " reshape (Reshape)           (None, 1, 1, 12)          0         \n",
            "                                                                 \n",
            " conv2d_transpose (Conv2DTr  (None, 1, 1, 128)         13952     \n",
            " anspose)                                                        \n",
            "                                                                 \n",
            " up_sampling2d (UpSampling2  (None, 4, 4, 128)         0         \n",
            " D)                                                              \n",
            "                                                                 \n",
            " conv2d_transpose_1 (Conv2D  (None, 4, 4, 64)          73792     \n",
            " Transpose)                                                      \n",
            "                                                                 \n",
            " up_sampling2d_1 (UpSamplin  (None, 36, 36, 64)        0         \n",
            " g2D)                                                            \n",
            "                                                                 \n",
            " conv2d_transpose_2 (Conv2D  (None, 36, 36, 32)        18464     \n",
            " Transpose)                                                      \n",
            "                                                                 \n",
            " conv2d (Conv2D)             (None, 36, 36, 3)         867       \n",
            "                                                                 \n",
            "=================================================================\n",
            "Total params: 110159 (430.31 KB)\n",
            "Trainable params: 110159 (430.31 KB)\n",
            "Non-trainable params: 0 (0.00 Byte)\n",
            "_________________________________________________________________\n"
          ]
        }
      ],
      "source": [
        "from keras.layers import Input, Dense, Reshape, Conv2DTranspose, UpSampling2D\n",
        "from keras.models import Model\n",
        "generator_activation = keras.activations.elu\n",
        "\n",
        "# Define CODE_SIZE and FIGURE_SIZE\n",
        "CODE_SIZE = 256\n",
        "FIGURE_SIZE = (36, 36, 3)  # 36x36 image with 3 channels (RGB)\n",
        "\n",
        "with tf.name_scope(\"Generator\"):\n",
        "    generator = Sequential(name=\"Generator\")\n",
        "    generator.add(L.InputLayer([CODE_SIZE],name='noise'))\n",
        "    generator.add(L.Dense(1*1*12, activation=generator_activation))  # Start with a dense layer\n",
        "\n",
        "    # Reshape the output to\n",
        "    generator.add(L.Reshape((1, 1, 12)))\n",
        "\n",
        "    # Upsampling layers\n",
        "    generator.add(L.Conv2DTranspose(128, kernel_size=3, strides=1, padding='same', activation=generator_activation))\n",
        "    generator.add(L.UpSampling2D(size=(4, 4)))  # Upsample to (12, 12, 6)\n",
        "    generator.add(L.Conv2DTranspose(64, kernel_size=3, strides=1, padding='same', activation=generator_activation))\n",
        "    generator.add(L.UpSampling2D(size=(9, 9)))  # Upsample to (36, 36, 3)\n",
        "    generator.add(L.Conv2DTranspose(32, kernel_size=3, strides=1, padding='same', activation=generator_activation))\n",
        "\n",
        "    # Final convolutional layer to get output shape (36, 36, 3)\n",
        "    generator.add(L.Conv2D(3, kernel_size=3, padding='same', activation='tanh'))\n",
        "\n",
        "    assert generator.output_shape[1:] == IMG_SHAPE, \\\n",
        "        f\"generator must output an image of shape {IMG_SHAPE}, but instead it produces {generator.output_shape[1:]}\"\n",
        "\n",
        "    generator.summary()"
      ]
    },
    {
      "cell_type": "markdown",
      "metadata": {
        "id": "yJOZFU_dqPD8"
      },
      "source": [
        "# Make the Discriminator.\n",
        "\n",
        "It is your usual convolutional network with interlooping convolution and pooling layers: It takes a figure as input, and a simple output to separate \"Yes\" (figure is real) and \"No\" (figure is fake).The network does not include dropout/batchnorm to avoid learning complications.\n",
        "We also regularize the pre-output layer to prevent discriminator from being too certain.\n"
      ]
    },
    {
      "cell_type": "code",
      "source": [
        "from keras.layers import BatchNormalization, Dropout, Conv2D, MaxPooling2D, Flatten, Dense\n",
        "\n",
        "# Define the activation function for the discriminator\n",
        "discriminator_activation = partial(keras.activations.relu, alpha=0.3)\n",
        "\n",
        "# Modify the architecture of the discriminator to include batch normalization\n",
        "with tf.name_scope(\"Discriminator\"):\n",
        "    discriminator = Sequential(name=\"Discriminator\")\n",
        "    discriminator.add(L.InputLayer(IMG_SHAPE))\n",
        "\n",
        "    discriminator.add(Conv2D(32, kernel_size=3, activation=discriminator_activation, padding='same'))\n",
        "    discriminator.add(BatchNormalization())\n",
        "    discriminator.add(MaxPooling2D(pool_size=2))\n",
        "\n",
        "    discriminator.add(Conv2D(64, kernel_size=3, activation=discriminator_activation, padding='same'))\n",
        "    discriminator.add(BatchNormalization())\n",
        "    discriminator.add(MaxPooling2D(pool_size=2))\n",
        "\n",
        "    discriminator.add(Conv2D(128, kernel_size=3, activation=discriminator_activation, padding='same'))\n",
        "    discriminator.add(BatchNormalization())\n",
        "    discriminator.add(MaxPooling2D(pool_size=2))\n",
        "\n",
        "    discriminator.add(Flatten())\n",
        "    discriminator.add(Dense(256, activation=discriminator_activation))\n",
        "    discriminator.add(Dense(2, activation='softmax'))\n",
        "\n",
        "\n",
        "    if GAN_TYPE == \"Wasserstein\":\n",
        "        # Wasserstein discriminator values are unconstrained\n",
        "        discriminator.add(L.Dense(1))\n",
        "    elif GAN_TYPE == \"Jensen-Shannon\":\n",
        "        # Jensen-Shannon expects probabilities\n",
        "        discriminator.add(L.Dense(2, activation=tf.nn.log_softmax))\n",
        "\n",
        "    discriminator.summary()\n",
        "\n",
        "# Adjust learning rate for discriminator optimizer\n",
        "disc_learning_rate = 1e-4\n",
        "\n",
        "# Use Adam optimizer for discriminator training\n",
        "disc_optimizer = tf.keras.optimizers.Adam(disc_learning_rate, beta1=0.5)\n",
        "\n",
        "# Add dropout layers to the discriminator\n",
        "discriminator.add(Dropout(0.5))"
      ],
      "metadata": {
        "colab": {
          "base_uri": "https://localhost:8080/",
          "height": 1000
        },
        "id": "7wmMJiLFyEXc",
        "outputId": "3dd6e1d0-c271-4ec5-fe7d-26f1818125ad"
      },
      "execution_count": null,
      "outputs": [
        {
          "output_type": "stream",
          "name": "stderr",
          "text": [
            "WARNING:tensorflow:From /usr/local/lib/python3.10/dist-packages/keras/src/layers/normalization/batch_normalization.py:883: _colocate_with (from tensorflow.python.framework.ops) is deprecated and will be removed in a future version.\n",
            "Instructions for updating:\n",
            "Colocations handled automatically by placer.\n"
          ]
        },
        {
          "output_type": "stream",
          "name": "stdout",
          "text": [
            "Model: \"Discriminator\"\n",
            "_________________________________________________________________\n",
            " Layer (type)                Output Shape              Param #   \n",
            "=================================================================\n",
            " conv2d_1 (Conv2D)           (None, 36, 36, 32)        896       \n",
            "                                                                 \n",
            " batch_normalization (Batch  (None, 36, 36, 32)        128       \n",
            " Normalization)                                                  \n",
            "                                                                 \n",
            " max_pooling2d (MaxPooling2  (None, 18, 18, 32)        0         \n",
            " D)                                                              \n",
            "                                                                 \n",
            " conv2d_2 (Conv2D)           (None, 18, 18, 64)        18496     \n",
            "                                                                 \n",
            " batch_normalization_1 (Bat  (None, 18, 18, 64)        256       \n",
            " chNormalization)                                                \n",
            "                                                                 \n",
            " max_pooling2d_1 (MaxPoolin  (None, 9, 9, 64)          0         \n",
            " g2D)                                                            \n",
            "                                                                 \n",
            " conv2d_3 (Conv2D)           (None, 9, 9, 128)         73856     \n",
            "                                                                 \n",
            " batch_normalization_2 (Bat  (None, 9, 9, 128)         512       \n",
            " chNormalization)                                                \n",
            "                                                                 \n",
            " max_pooling2d_2 (MaxPoolin  (None, 4, 4, 128)         0         \n",
            " g2D)                                                            \n",
            "                                                                 \n",
            " flatten (Flatten)           (None, 2048)              0         \n",
            "                                                                 \n",
            " dense_1 (Dense)             (None, 256)               524544    \n",
            "                                                                 \n",
            " dense_2 (Dense)             (None, 2)                 514       \n",
            "                                                                 \n",
            " dense_3 (Dense)             (None, 2)                 6         \n",
            "                                                                 \n",
            "=================================================================\n",
            "Total params: 619208 (2.36 MB)\n",
            "Trainable params: 618760 (2.36 MB)\n",
            "Non-trainable params: 448 (1.75 KB)\n",
            "_________________________________________________________________\n"
          ]
        },
        {
          "output_type": "error",
          "ename": "TypeError",
          "evalue": "beta1 is not a valid argument, kwargs should be empty  for `optimizer_experimental.Optimizer`.",
          "traceback": [
            "\u001b[0;31m---------------------------------------------------------------------------\u001b[0m",
            "\u001b[0;31mTypeError\u001b[0m                                 Traceback (most recent call last)",
            "\u001b[0;32m<ipython-input-10-d5168a3087f9>\u001b[0m in \u001b[0;36m<cell line: 41>\u001b[0;34m()\u001b[0m\n\u001b[1;32m     39\u001b[0m \u001b[0;34m\u001b[0m\u001b[0m\n\u001b[1;32m     40\u001b[0m \u001b[0;31m# Use Adam optimizer for discriminator training\u001b[0m\u001b[0;34m\u001b[0m\u001b[0;34m\u001b[0m\u001b[0m\n\u001b[0;32m---> 41\u001b[0;31m \u001b[0mdisc_optimizer\u001b[0m \u001b[0;34m=\u001b[0m \u001b[0mtf\u001b[0m\u001b[0;34m.\u001b[0m\u001b[0mkeras\u001b[0m\u001b[0;34m.\u001b[0m\u001b[0moptimizers\u001b[0m\u001b[0;34m.\u001b[0m\u001b[0mAdam\u001b[0m\u001b[0;34m(\u001b[0m\u001b[0mdisc_learning_rate\u001b[0m\u001b[0;34m,\u001b[0m \u001b[0mbeta1\u001b[0m\u001b[0;34m=\u001b[0m\u001b[0;36m0.5\u001b[0m\u001b[0;34m)\u001b[0m\u001b[0;34m\u001b[0m\u001b[0;34m\u001b[0m\u001b[0m\n\u001b[0m\u001b[1;32m     42\u001b[0m \u001b[0;34m\u001b[0m\u001b[0m\n\u001b[1;32m     43\u001b[0m \u001b[0;31m# Add dropout layers to the discriminator\u001b[0m\u001b[0;34m\u001b[0m\u001b[0;34m\u001b[0m\u001b[0m\n",
            "\u001b[0;32m/usr/local/lib/python3.10/dist-packages/keras/src/optimizers/adam.py\u001b[0m in \u001b[0;36m__init__\u001b[0;34m(self, learning_rate, beta_1, beta_2, epsilon, amsgrad, weight_decay, clipnorm, clipvalue, global_clipnorm, use_ema, ema_momentum, ema_overwrite_frequency, jit_compile, name, **kwargs)\u001b[0m\n\u001b[1;32m    108\u001b[0m         \u001b[0;34m**\u001b[0m\u001b[0mkwargs\u001b[0m\u001b[0;34m\u001b[0m\u001b[0;34m\u001b[0m\u001b[0m\n\u001b[1;32m    109\u001b[0m     ):\n\u001b[0;32m--> 110\u001b[0;31m         super().__init__(\n\u001b[0m\u001b[1;32m    111\u001b[0m             \u001b[0mname\u001b[0m\u001b[0;34m=\u001b[0m\u001b[0mname\u001b[0m\u001b[0;34m,\u001b[0m\u001b[0;34m\u001b[0m\u001b[0;34m\u001b[0m\u001b[0m\n\u001b[1;32m    112\u001b[0m             \u001b[0mweight_decay\u001b[0m\u001b[0;34m=\u001b[0m\u001b[0mweight_decay\u001b[0m\u001b[0;34m,\u001b[0m\u001b[0;34m\u001b[0m\u001b[0;34m\u001b[0m\u001b[0m\n",
            "\u001b[0;32m/usr/local/lib/python3.10/dist-packages/keras/src/optimizers/optimizer.py\u001b[0m in \u001b[0;36m__init__\u001b[0;34m(self, name, weight_decay, clipnorm, clipvalue, global_clipnorm, use_ema, ema_momentum, ema_overwrite_frequency, jit_compile, **kwargs)\u001b[0m\n\u001b[1;32m   1082\u001b[0m         \u001b[0mmesh\u001b[0m \u001b[0;34m=\u001b[0m \u001b[0mkwargs\u001b[0m\u001b[0;34m.\u001b[0m\u001b[0mpop\u001b[0m\u001b[0;34m(\u001b[0m\u001b[0;34m\"mesh\"\u001b[0m\u001b[0;34m,\u001b[0m \u001b[0;32mNone\u001b[0m\u001b[0;34m)\u001b[0m\u001b[0;34m\u001b[0m\u001b[0;34m\u001b[0m\u001b[0m\n\u001b[1;32m   1083\u001b[0m         \u001b[0mself\u001b[0m\u001b[0;34m.\u001b[0m\u001b[0m_mesh\u001b[0m \u001b[0;34m=\u001b[0m \u001b[0mmesh\u001b[0m\u001b[0;34m\u001b[0m\u001b[0;34m\u001b[0m\u001b[0m\n\u001b[0;32m-> 1084\u001b[0;31m         super().__init__(\n\u001b[0m\u001b[1;32m   1085\u001b[0m             \u001b[0mname\u001b[0m\u001b[0;34m,\u001b[0m\u001b[0;34m\u001b[0m\u001b[0;34m\u001b[0m\u001b[0m\n\u001b[1;32m   1086\u001b[0m             \u001b[0mweight_decay\u001b[0m\u001b[0;34m,\u001b[0m\u001b[0;34m\u001b[0m\u001b[0;34m\u001b[0m\u001b[0m\n",
            "\u001b[0;32m/usr/local/lib/python3.10/dist-packages/keras/src/optimizers/optimizer.py\u001b[0m in \u001b[0;36m__init__\u001b[0;34m(self, name, weight_decay, clipnorm, clipvalue, global_clipnorm, use_ema, ema_momentum, ema_overwrite_frequency, jit_compile, **kwargs)\u001b[0m\n\u001b[1;32m    104\u001b[0m         \u001b[0mself\u001b[0m\u001b[0;34m.\u001b[0m\u001b[0m_variables\u001b[0m \u001b[0;34m=\u001b[0m \u001b[0;34m[\u001b[0m\u001b[0;34m]\u001b[0m\u001b[0;34m\u001b[0m\u001b[0;34m\u001b[0m\u001b[0m\n\u001b[1;32m    105\u001b[0m         \u001b[0mself\u001b[0m\u001b[0;34m.\u001b[0m\u001b[0m_create_iteration_variable\u001b[0m\u001b[0;34m(\u001b[0m\u001b[0;34m)\u001b[0m\u001b[0;34m\u001b[0m\u001b[0;34m\u001b[0m\u001b[0m\n\u001b[0;32m--> 106\u001b[0;31m         \u001b[0mself\u001b[0m\u001b[0;34m.\u001b[0m\u001b[0m_process_kwargs\u001b[0m\u001b[0;34m(\u001b[0m\u001b[0mkwargs\u001b[0m\u001b[0;34m)\u001b[0m\u001b[0;34m\u001b[0m\u001b[0;34m\u001b[0m\u001b[0m\n\u001b[0m\u001b[1;32m    107\u001b[0m \u001b[0;34m\u001b[0m\u001b[0m\n\u001b[1;32m    108\u001b[0m     \u001b[0;32mdef\u001b[0m \u001b[0m_create_iteration_variable\u001b[0m\u001b[0;34m(\u001b[0m\u001b[0mself\u001b[0m\u001b[0;34m)\u001b[0m\u001b[0;34m:\u001b[0m\u001b[0;34m\u001b[0m\u001b[0;34m\u001b[0m\u001b[0m\n",
            "\u001b[0;32m/usr/local/lib/python3.10/dist-packages/keras/src/optimizers/optimizer.py\u001b[0m in \u001b[0;36m_process_kwargs\u001b[0;34m(self, kwargs)\u001b[0m\n\u001b[1;32m    140\u001b[0m                 )\n\u001b[1;32m    141\u001b[0m             \u001b[0;32melse\u001b[0m\u001b[0;34m:\u001b[0m\u001b[0;34m\u001b[0m\u001b[0;34m\u001b[0m\u001b[0m\n\u001b[0;32m--> 142\u001b[0;31m                 raise TypeError(\n\u001b[0m\u001b[1;32m    143\u001b[0m                     \u001b[0;34mf\"{k} is not a valid argument, kwargs should be empty \"\u001b[0m\u001b[0;34m\u001b[0m\u001b[0;34m\u001b[0m\u001b[0m\n\u001b[1;32m    144\u001b[0m                     \u001b[0;34m\" for `optimizer_experimental.Optimizer`.\"\u001b[0m\u001b[0;34m\u001b[0m\u001b[0;34m\u001b[0m\u001b[0m\n",
            "\u001b[0;31mTypeError\u001b[0m: beta1 is not a valid argument, kwargs should be empty  for `optimizer_experimental.Optimizer`."
          ]
        }
      ]
    },
    {
      "cell_type": "code",
      "execution_count": null,
      "metadata": {
        "id": "9O-mJFIVWDzP"
      },
      "outputs": [],
      "source": [
        "# Helper function to create a shuffling image stream for training\n",
        "\n",
        "def get_tf_dataset(dataset, batch_size):\n",
        "    \"\"\"\n",
        "    Produces an infinite stram of Tensorflow batches from a numpy dataset. The dataset is shuffled every epoch.\n",
        "    Args:\n",
        "       dataset: np.array[n_examples, ...]\n",
        "       batch_size: int, batch size of the results\n",
        "    Reuturns:\n",
        "       Tensor, containing the next batch\n",
        "    \"\"\"\n",
        "    if isinstance(dataset, tf.Tensor):\n",
        "        N_EXAMPLES = dataset.shape[0]\n",
        "    else:\n",
        "        N_EXAMPLES = dataset[0].shape[0]\n",
        "    shuffler = tf.data.experimental.shuffle_and_repeat(N_EXAMPLES)\n",
        "    dataset_tf = tf.data.Dataset.from_tensor_slices(dataset)\n",
        "    suffled_ds = shuffler(dataset_tf)\n",
        "    #return suffled_ds.batch(batch_size).prefetch(1).make_one_shot_iterator().get_next()\n",
        "    return tf.compat.v1.data.make_one_shot_iterator( suffled_ds.batch(batch_size) ).get_next()\n"
      ]
    },
    {
      "cell_type": "code",
      "execution_count": null,
      "metadata": {
        "id": "mzBIUJVNWc8t"
      },
      "outputs": [],
      "source": [
        "# Initialize training data setup.\n",
        "\n",
        "# Notes on strategy: we will train the two networks concurrently:\n",
        "#  - Train discriminator to better distinguish real data from current generator\n",
        "#  - Train generator to make discriminator think generator is real\n",
        "# Since discriminator is a differentiable neural network, we train both with gradient descent.\n",
        "# Training is done iteratively until discriminator is no longer able to find the difference (or until you run out of patience).\n",
        "# Tricks:\n",
        "# Train generator with adam to speed up training. Discriminator trains with SGD to avoid problems with momentum.\n",
        "# More: https://github.com/soumith/ganhacks\n",
        "\n",
        "# Obtain the training data faces stream for the discriminator\n",
        "train_batch_size = 100\n",
        "real_data = get_tf_dataset(data, train_batch_size)\n",
        "\n",
        "# Generate the noise data to be used in the generator training\n",
        "noise_batch_size = tf.compat.v1.placeholder(tf.int32, shape=[], name=\"noise_batch_size\")\n",
        "noise = tf.random.normal([noise_batch_size, CODE_SIZE], dtype=tf.float32, name=\"noise\")"
      ]
    },
    {
      "cell_type": "code",
      "execution_count": null,
      "metadata": {
        "id": "3wmhAaGiWjoE"
      },
      "outputs": [],
      "source": [
        "with tf.GradientTape() as disc_tape, tf.GradientTape() as gen_tape:\n",
        "\n",
        "  # Run data and noise through the networks\n",
        "  discriminator_real = discriminator(real_data)\n",
        "  generated_data = generator(noise)\n",
        "  discriminator_generated = discriminator(generated_data)\n",
        "\n",
        "  # Configure custom learning and loss details, specific to the GAN strategy type\n",
        "\n",
        "  if GAN_TYPE == \"Wasserstein\":\n",
        "    with tf.name_scope(\"gradient_loss\"):\n",
        "        alpha = tf.random_uniform(shape=[tf.shape(generated_data)[0], 1, 1, 1], minval=0., maxval=1.)\n",
        "        interpolates = alpha*real_data + ((1.-alpha)*generated_data)\n",
        "        disc_interpolates = discriminator(interpolates)\n",
        "        gradients = tf.gradients(disc_interpolates, [interpolates])[0]\n",
        "        slopes = tf.norm(tf.reshape(gradients, [tf.shape(gradients)[0], -1]), axis=1)\n",
        "        gradient_penalty = tf.reduce_mean(tf.square(slopes - 1.))\n",
        "    EMD_loss = tf.reduce_mean(discriminator_generated) - tf.reduce_mean(discriminator_real)\n",
        "    LAMBDA = 10.\n",
        "    discriminator_loss = EMD_loss + LAMBDA*gradient_penalty\n",
        "    generator_loss = -tf.reduce_mean(discriminator_generated)\n",
        "\n",
        "  if GAN_TYPE == \"Jensen-Shannon\":\n",
        "    logp_real = discriminator(real_data)\n",
        "    logp_gen = discriminator(generated_data)\n",
        "    discriminator_loss = -tf.reduce_mean(logp_real[:,1] + logp_gen[:,0])\n",
        "    generator_loss = -tf.reduce_mean(logp_gen[:,1])\n",
        "\n",
        "# Get gradients\n",
        "disc_grads = disc_tape.gradient(discriminator_loss, discriminator.trainable_weights)\n",
        "gen_grads  = gen_tape.gradient(generator_loss, generator.trainable_weights)\n",
        "\n",
        "# Define the optimizer for both networks.\n",
        "# The values below are rough suggestions aimed at not exploding a discriminator\n",
        "# of complexity roughly equal to the complexity of the generator.\n",
        "disc_learning_rate = 1e-3\n",
        "\n",
        "if GAN_TYPE == \"Wasserstein\":\n",
        "    # https://arxiv.org/pdf/1704.00028.pdf\n",
        "    #disc_optimizer = tf.keras.optimizers.Adam(disc_learning_rate, beta1=0, beta2=0.9).minimize(\n",
        "    #      discriminator_loss, var_list=discriminator.trainable_weights)\n",
        "    disc_optimizer = tf.keras.optimizers.Adam(disc_learning_rate, beta1=0, beta2=0.9).apply_gradients(\n",
        "        zip(disc_grads, discriminator.trainable_weights))\n",
        "elif GAN_TYPE == \"Jensen-Shannon\":\n",
        "    #disc_optimizer = tf.keras.optimizers.SGD(disc_learning_rate).minimize(\n",
        "    #    discriminator_loss, var_list=discriminator.trainable_weights)\n",
        "    disc_optimizer = tf.keras.optimizers.SGD(disc_learning_rate).apply_gradients(\n",
        "        zip(disc_grads, discriminator.trainable_weights))\n",
        "\n",
        "\n",
        "if GAN_TYPE == \"Wasserstein\":\n",
        "    # https://arxiv.org/pdf/1704.00028.pdf\n",
        "    #gen_optimizer = tf.keras.optimizers.Adam(1e-4, beta1=0, beta2=0.9).minimize(\n",
        "    #    generator_loss, var_list=generator.trainable_weights)\n",
        "    gen_optimizer = tf.keras.optimizers.Adam(1e-4, beta1=0, beta2=0.9).apply_gradients(\n",
        "        zip(gen_grads, generator.trainable_weights))\n",
        "elif GAN_TYPE == \"Jensen-Shannon\":\n",
        "    #gen_optimizer = tf.keras.optimizers.Adam(1e-4).minimize(generator_loss, var_list=generator.trainable_weights)\n",
        "    gen_optimizer = tf.keras.optimizers.Adam(1e-4).apply_gradients(\n",
        "        zip(gen_grads, generator.trainable_weights))\n",
        "\n",
        "learning_summary = tf.compat.v1.summary.merge([\n",
        "    tf.compat.v1.summary.scalar(\"discriminator_loss\", discriminator_loss),\n",
        "    tf.compat.v1.summary.scalar(\"generator_loss\", generator_loss)\n",
        "])\n",
        "\n",
        "images_summary = tf.compat.v1.summary.image(\"generated_images\", generator(noise))\n"
      ]
    },
    {
      "cell_type": "code",
      "execution_count": null,
      "metadata": {
        "id": "UMhPM_fCZ1ES"
      },
      "outputs": [],
      "source": [
        "# initialize all variables.\n",
        "sess.run(tf.compat.v1.global_variables_initializer())"
      ]
    },
    {
      "cell_type": "code",
      "execution_count": null,
      "metadata": {
        "id": "eVVcyUnUaGMh"
      },
      "outputs": [],
      "source": [
        "# Define helper functions to evaluate the Gen. and Disc. over some data batches\n",
        "\n",
        "def sample_noise_batch(bsize):\n",
        "    # Get a new batch of noise samples\n",
        "    return np.random.normal(size=(bsize, CODE_SIZE)).astype('float32')\n",
        "\n",
        "def sample_data_batch(bsize):\n",
        "    # Get a batch of real faces\n",
        "    idxs = np.random.choice(np.arange(data.shape[0]), size=bsize)\n",
        "    return data[idxs]\n",
        "\n",
        "def sample_images(nrow,ncol, sharp=False):\n",
        "    # Let the generator create some faces from noise and show them\n",
        "    images = generator.predict(sample_noise_batch(bsize=nrow*ncol))\n",
        "    if np.var(images) != 0:\n",
        "        images = images.clip(np.min(data),np.max(data))\n",
        "    for i in range(nrow*ncol):\n",
        "        plt.subplot(nrow,ncol,i+1)\n",
        "        if sharp:\n",
        "            plt.imshow(images[i].reshape(IMG_SHAPE), cmap=\"gray\", interpolation=\"none\")\n",
        "        else:\n",
        "            plt.imshow(images[i].reshape(IMG_SHAPE), cmap=\"gray\")\n",
        "        plt.axis('off')\n",
        "\n",
        "def sample_probas(bsize):\n",
        "    # Let the discriminator predict 'True' or 'False' label for some real and some generated faces.\n",
        "    #  (note that this is actually a continuous number - a sort of 'probability')\n",
        "    fig, ax = plt.subplots()\n",
        "    ax.set_title('Generated vs real data')\n",
        "    ax.hist(discriminator.predict(sample_data_batch(bsize)).ravel(),\n",
        "             label='D(x)', alpha=0.5, density=True)\n",
        "    ax.hist(discriminator.predict(generator.predict(sample_noise_batch(bsize))).ravel(),\n",
        "             label='D(G(z))', alpha=0.5,  density=True)\n",
        "    ax.legend(loc='best')\n",
        "    return fig, ax"
      ]
    },
    {
      "cell_type": "code",
      "execution_count": null,
      "metadata": {
        "id": "cz5LzfqtaKIt"
      },
      "outputs": [],
      "source": [
        "# Actual training\n",
        "\n",
        "from IPython import display\n",
        "import os\n",
        "\n",
        "LOGDIR = \"./\"\n",
        "MODEL_NAME = \"faces_GAN_%s_noreg_v1\" % GAN_TYPE\n",
        "MODEL_DIR = \"./\"\n",
        "os.makedirs(MODEL_DIR, exist_ok=True)\n",
        "MODEL_WEIGHTS_FILE =  os.path.join(MODEL_DIR, (\"%s.ckpt\" % MODEL_NAME))\n",
        "VALIDATION_INTERVAL = 50 # time between intermediate visual updates.\n",
        "TOTAL_ITERATIONS = int(5e3) # was 5e4 but colab takes too long\n",
        "# Number of discriminator training iterations per generator iteration\n",
        "# In our tests for discriminator of roughly as complexity as discriminator\n",
        "# 5 worked for both Wasserstein and Jensen–Shannon.\n",
        "DISCRIMINATOR_ITERATIONS = 5\n",
        "\n",
        "# Save the intermediate weights, such that if our training gets interrupted,\n",
        "#  We don't have to restart from scratch.\n",
        "train_writer = tf.compat.v1.summary.FileWriter(os.path.join(LOGDIR, MODEL_NAME, \"train\"))\n",
        "train_writer.add_graph(tf.compat.v1.get_default_graph())\n",
        "weights_saver = tf.compat.v1.train.Saver()\n",
        "\n",
        "if(os.path.exists(MODEL_WEIGHTS_FILE)) :\n",
        "  try:\n",
        "    weights_saver.restore(sess, MODEL_WEIGHTS_FILE)\n",
        "  except (tf.errors.NotFoundError, tf.errors.InvalidArgumentError):\n",
        "    print(\"Can't restore parameters: no file with weights\")\n",
        "\n",
        "\n",
        "for epoch in range(TOTAL_ITERATIONS):\n",
        "    for i in range(DISCRIMINATOR_ITERATIONS):\n",
        "        # Train the discriminator\n",
        "        sess.run(disc_optimizer, {noise_batch_size: train_batch_size})\n",
        "    # Train the generator\n",
        "    summary, _ = sess.run([learning_summary, gen_optimizer], {noise_batch_size: train_batch_size})\n",
        "\n",
        "    # write the updated weights\n",
        "    train_writer.add_summary(summary, epoch)\n",
        "\n",
        "    if epoch % VALIDATION_INTERVAL == 0:\n",
        "        # display intermediate status and some generated faces.\n",
        "        display.clear_output(wait=False)\n",
        "        weights_saver.save(sess, MODEL_WEIGHTS_FILE)\n",
        "        epoch_images_summary = sess.run(images_summary, {noise_batch_size: 3})\n",
        "        train_writer.add_summary(epoch_images_summary, epoch)\n",
        "        sample_images(2, 3, True)\n",
        "        fig, ax = sample_probas(1000)\n",
        "        ax.set_title((\"Epoch %i; \" % epoch) + ax.get_title())\n",
        "        plt.show()"
      ]
    },
    {
      "cell_type": "code",
      "execution_count": null,
      "metadata": {
        "id": "H09ukireaN9R"
      },
      "outputs": [],
      "source": [
        "## Show us some generated faces after our training!\n",
        "plt.figure(figsize=[16, 24])\n",
        "sample_images(16, 8);"
      ]
    },
    {
      "cell_type": "markdown",
      "metadata": {
        "id": "LFvnr1R98B_z"
      },
      "source": [
        "#EXTRA\n",
        "1. TRYING WITH DENSER STARTING LAYERS:"
      ]
    },
    {
      "cell_type": "markdown",
      "metadata": {
        "id": "oEFqK_mH8CfB"
      },
      "source": [
        "Total params: 5717315 (21.81 MB) Trainable params: 5717315 (21.81 MB) Non-trainable params: 0 (0.00 Byte)"
      ]
    },
    {
      "cell_type": "code",
      "execution_count": null,
      "metadata": {
        "id": "ZCl0Xfu5asBX"
      },
      "outputs": [],
      "source": [
        "from keras.layers import Input, Dense, Reshape, Conv2DTranspose, UpSampling2D\n",
        "from keras.models import Model\n",
        "generator_activation = keras.activations.elu\n",
        "\n",
        "# Define CODE_SIZE and FIGURE_SIZE\n",
        "CODE_SIZE = 256\n",
        "FIGURE_SIZE = (36, 36, 3)  # 36x36 image with 3 channels (RGB)\n",
        "\n",
        "with tf.name_scope(\"Generator\"):\n",
        "    generator = Sequential(name=\"Generator\")\n",
        "    generator.add(L.InputLayer([CODE_SIZE],name='noise'))\n",
        "    generator.add(L.Dense(9*9*256, activation=generator_activation))  # Start with a dense layer\n",
        "\n",
        "    # Reshape the output to (9, 9, 256)\n",
        "    generator.add(L.Reshape((9, 9, 256)))\n",
        "\n",
        "    # Upsampling layers\n",
        "    generator.add(L.Conv2DTranspose(128, kernel_size=3, strides=1, padding='same', activation=generator_activation))\n",
        "    generator.add(L.UpSampling2D(size=(2, 2)))  # Upsample to (18, 18, 128)\n",
        "    generator.add(L.Conv2DTranspose(64, kernel_size=3, strides=1, padding='same', activation=generator_activation))\n",
        "    generator.add(L.UpSampling2D(size=(2, 2)))  # Upsample to (36, 36, 64)\n",
        "    generator.add(L.Conv2DTranspose(32, kernel_size=3, strides=1, padding='same', activation=generator_activation))\n",
        "\n",
        "    # Final convolutional layer to get output shape (36, 36, 3)\n",
        "    generator.add(L.Conv2D(3, kernel_size=3, padding='same', activation='tanh'))\n",
        "\n",
        "    assert generator.output_shape[1:] == IMG_SHAPE, \\\n",
        "        f\"generator must output an image of shape {IMG_SHAPE}, but instead it produces {generator.output_shape[1:]}\"\n",
        "\n",
        "    generator.summary()"
      ]
    },
    {
      "cell_type": "markdown",
      "metadata": {
        "id": "YyVPUMuL8Dy4"
      },
      "source": [
        "Total params: 156419 (611.01 KB)\n",
        "Trainable params: 156419 (611.01 KB)\n",
        "Non-trainable params: 0 (0.00 Byte)"
      ]
    },
    {
      "cell_type": "code",
      "execution_count": null,
      "metadata": {
        "id": "dMid33Y28OE9"
      },
      "outputs": [],
      "source": [
        "\n",
        "# Define CODE_SIZE and FIGURE_SIZE\n",
        "CODE_SIZE = 256\n",
        "FIGURE_SIZE = (36, 36, 3)  # 36x36 image with 3 channels (RGB)\n",
        "\n",
        "with tf.name_scope(\"Generator\"):\n",
        "    generator = Sequential(name=\"Generator\")\n",
        "    generator.add(L.InputLayer([CODE_SIZE],name='noise'))\n",
        "    generator.add(L.Dense(4*4*12, activation=generator_activation))  # Start with a dense layer\n",
        "\n",
        "    # Reshape the output to\n",
        "    generator.add(L.Reshape((4, 4, 12)))\n",
        "\n",
        "    # Upsampling layers\n",
        "    generator.add(L.Conv2DTranspose(128, kernel_size=3, strides=1, padding='same', activation=generator_activation))\n",
        "    generator.add(L.UpSampling2D(size=(3, 3)))  # Upsample to (12, 12, 6)\n",
        "    generator.add(L.Conv2DTranspose(64, kernel_size=3, strides=1, padding='same', activation=generator_activation))\n",
        "    generator.add(L.UpSampling2D(size=(3, 3)))  # Upsample to (36, 36, 3)\n",
        "    generator.add(L.Conv2DTranspose(32, kernel_size=3, strides=1, padding='same', activation=generator_activation))\n",
        "\n",
        "    # Final convolutional layer to get output shape (36, 36, 3)\n",
        "    generator.add(L.Conv2D(3, kernel_size=3, padding='same', activation='tanh'))\n",
        "\n",
        "    assert generator.output_shape[1:] == IMG_SHAPE, \\\n",
        "        f\"generator must output an image of shape {IMG_SHAPE}, but instead it produces {generator.output_shape[1:]}\"\n",
        "\n",
        "    generator.summary()"
      ]
    },
    {
      "cell_type": "markdown",
      "source": [
        "#Conditional GAN with Attribute Labels:\n",
        "\n",
        "Modify your GAN architecture to be conditional on attribute labels. You can train the model to generate faces with specific attributes like gender, age, hair color, facial expression, etc. This allows you to control which features are present in the generated faces by providing corresponding attribute labels during training."
      ],
      "metadata": {
        "id": "dyw7wOIz3Ng7"
      }
    },
    {
      "cell_type": "code",
      "source": [
        "# Define the dimensionality of attribute labels\n",
        "NUM_ATTRIBUTES = 4  # Example: Gender, Age, Hair Color, Facial Expression\n",
        "\n",
        "# Generator architecture modification\n",
        "with tf.name_scope(\"Conditional_Generator\"):\n",
        "    noise_input = L.Input(shape=(CODE_SIZE,), name='noise_input')\n",
        "    attribute_input = L.Input(shape=(NUM_ATTRIBUTES,), name='attribute_input')\n",
        "\n",
        "    # Concatenate noise and attribute labels\n",
        "    merged_input = L.concatenate([noise_input, attribute_input], axis=1)\n",
        "\n",
        "    generator = Sequential(name=\"Generator\")\n",
        "    generator.add(L.Dense(1*1*12, activation=generator_activation, input_shape=(CODE_SIZE + NUM_ATTRIBUTES,)))  # Start with a dense layer\n",
        "\n",
        "    # Reshape the output to\n",
        "    generator.add(L.Reshape((1, 1, 12)))\n",
        "\n",
        "    # Upsampling layers\n",
        "    generator.add(L.Conv2DTranspose(128, kernel_size=3, strides=1, padding='same', activation=generator_activation))\n",
        "    generator.add(L.UpSampling2D(size=(4, 4)))  # Upsample to (12, 12, 6)\n",
        "    generator.add(L.Conv2DTranspose(64, kernel_size=3, strides=1, padding='same', activation=generator_activation))\n",
        "    generator.add(L.UpSampling2D(size=(9, 9)))  # Upsample to (36, 36, 3)\n",
        "    generator.add(L.Conv2DTranspose(32, kernel_size=3, strides=1, padding='same', activation=generator_activation))\n",
        "\n",
        "    # Final convolutional layer to get output shape (36, 36, 3)\n",
        "    generator.add(L.Conv2D(3, kernel_size=3, padding='same', activation='tanh'))\n",
        "\n",
        "    assert generator.output_shape[1:] == FIGURE_SIZE, \\\n",
        "        f\"generator must output an image of shape {FIGURE_SIZE}, but instead it produces {generator.output_shape[1:]}\"\n",
        "\n",
        "    generator_model = Model(inputs=[noise_input, attribute_input], outputs=generator([noise_input, attribute_input]))\n",
        "\n",
        "    generator_model.summary()"
      ],
      "metadata": {
        "id": "KDRG84gX3uIM"
      },
      "execution_count": null,
      "outputs": []
    },
    {
      "cell_type": "code",
      "source": [
        "# Discriminator architecture modification\n",
        "with tf.name_scope(\"Conditional_Discriminator\"):\n",
        "    image_input = L.Input(shape=FIGURE_SIZE, name='image_input')\n",
        "    attribute_input = L.Input(shape=(NUM_ATTRIBUTES,), name='attribute_input')\n",
        "\n",
        "    discriminator = Sequential(name=\"Discriminator\")\n",
        "    discriminator.add(image_input)\n",
        "\n",
        "    discriminator.add(Conv2D(32, kernel_size=3, activation=discriminator_activation, padding='same'))\n",
        "    discriminator.add(BatchNormalization())\n",
        "    discriminator.add(MaxPooling2D(pool_size=2))\n",
        "\n",
        "    discriminator.add(Conv2D(64, kernel_size=3, activation=discriminator_activation, padding='same'))\n",
        "    discriminator.add(BatchNormalization())\n",
        "    discriminator.add(MaxPooling2D(pool_size=2))\n",
        "\n",
        "    discriminator.add(Conv2D(128, kernel_size=3, activation=discriminator_activation, padding='same'))\n",
        "    discriminator.add(BatchNormalization())\n",
        "    discriminator.add(MaxPooling2D(pool_size=2))\n",
        "\n",
        "    discriminator.add(Flatten())\n",
        "    discriminator.add(Dense(256, activation=discriminator_activation))\n",
        "\n",
        "    # Concatenate attribute labels with discriminator features\n",
        "    merged_features = L.concatenate([discriminator.output, attribute_input])\n",
        "\n",
        "    discriminator.add(Dense(2, activation='softmax'))  # Output 2 classes: real or fake\n",
        "\n",
        "    discriminator_model = Model(inputs=[image_input, attribute_input], outputs=discriminator([image_input, attribute_input]))\n",
        "\n",
        "    discriminator_model.summary()"
      ],
      "metadata": {
        "id": "8C1iXl6j3QdA"
      },
      "execution_count": null,
      "outputs": []
    },
    {
      "cell_type": "code",
      "source": [
        "# Compile the models\n",
        "discriminator_model.compile(optimizer=disc_optimizer, loss='binary_crossentropy')\n",
        "\n",
        "# Combined GAN model\n",
        "noise = L.Input(shape=(CODE_SIZE,), name='noise')\n",
        "attribute = L.Input(shape=(NUM_ATTRIBUTES,), name='attribute')\n",
        "\n",
        "fake_image = generator_model([noise, attribute])\n",
        "discriminator_model.trainable = False\n",
        "validity = discriminator_model([fake_image, attribute])\n",
        "\n",
        "combined_model = Model(inputs=[noise, attribute], outputs=validity)\n",
        "combined_model.compile(optimizer=gen_optimizer, loss='binary_crossentropy')"
      ],
      "metadata": {
        "id": "-2YXvIPl308F"
      },
      "execution_count": null,
      "outputs": []
    }
  ],
  "metadata": {
    "accelerator": "GPU",
    "colab": {
      "machine_shape": "hm",
      "provenance": []
    },
    "kernelspec": {
      "display_name": "Python 3",
      "language": "python",
      "name": "python3"
    },
    "language_info": {
      "codemirror_mode": {
        "name": "ipython",
        "version": 3
      },
      "file_extension": ".py",
      "mimetype": "text/x-python",
      "name": "python",
      "nbconvert_exporter": "python",
      "pygments_lexer": "ipython3",
      "version": "3.8.8"
    }
  },
  "nbformat": 4,
  "nbformat_minor": 0
}